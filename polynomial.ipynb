{
 "cells": [
  {
   "cell_type": "markdown",
   "metadata": {
    "toc": true
   },
   "source": [
    "<h1>Table of Contents<span class=\"tocSkip\"></span></h1>\n",
    "<div class=\"toc\"><ul class=\"toc-item\"></ul></div>"
   ]
  },
  {
   "cell_type": "code",
   "execution_count": null,
   "metadata": {
    "code_folding": [
     0,
     2,
     4,
     12,
     14,
     16,
     23
    ]
   },
   "outputs": [],
   "source": [
    "# ============================================  基本函数（1） =======================================================\n",
    "### hello\n",
    "def lv(f):                           #lv(f)\n",
    "    return f.variables()[-1]\n",
    "def cls(f):                          #cls(f)\n",
    "    a = f.parent().gens()\n",
    "    if f.total_degree()==0:\n",
    "        return 0\n",
    "    var = lv(f)\n",
    "    for i in range(len(a)):\n",
    "        if(var==a[i]):\n",
    "            return i+1\n",
    "def ldeg(f):                         #ldeg(f)\n",
    "    return f.degree(lv(f))\n",
    "def ini(f):                          #ini(f)\n",
    "    return f.coefficient({lv(f):ldeg(f)})\n",
    "def is_constance(f):                 #判断f是否是常值函数\n",
    "    return f.total_degree()==0 \n",
    "\n",
    "# =============================================  基本函数（2）=======================================================\n",
    "\n",
    "def is_reduced(f,g):                 #判断多项式 f 是否相对于多项式 g 是约化的\n",
    "    return f.degree(lv(g))<ldeg(g)\n",
    "def is_reduced_tri(f,T):             #判断多项式 f 是否相对于三角列 T 是约化的\n",
    "    for item in T:\n",
    "        if(not is_reduced(f,item)):\n",
    "            return false\n",
    "    return true\n",
    "def is_rank_smaller(f,g):            #判断多项式f的rank是否比多项式g小\n",
    "    if( is_constance(f) == true and is_constance(g) == false ):\n",
    "        return true\n",
    "    elif( is_constance(f) == false and is_constance(g) == false):      \n",
    "        if(cls(f)<cls(g)):\n",
    "            return true\n",
    "        elif(cls(f)==cls(g) and ldeg(f)<ldeg(g)):\n",
    "            return true\n",
    "        else:\n",
    "            return false\n",
    "    else:\n",
    "        return false \n",
    "    \n",
    "#=============================================  基本函数（3）=======================================================\n",
    "\n",
    "def prem(f,g,var):                   #多元多项式伪除\n",
    "    rng=f.parent()\n",
    "    f1=f.polynomial(var)\n",
    "    g1=g.polynomial(var)\n",
    "    quo,rem=f1.pseudo_quo_rem(g1)\n",
    "    quo=rng(quo)\n",
    "    rem=rng(rem)\n",
    "    k=(quo*g+rem)/f\n",
    "    return k,quo,rem\n",
    "def prem_tri(f,T_):                   #一个多项式对一个三角列作伪除\n",
    "    print(\"T:\",T_,\"\\n\")\n",
    "    T=T_\n",
    "    r=f\n",
    "    while len(T)!=0:\n",
    "        g=T.pop()\n",
    "        print(\"g:\",g,\"\\n\")\n",
    "        _,_,r=prem(r,g,lv(g))\n",
    "    return r\n"
   ]
  },
  {
   "cell_type": "code",
   "execution_count": 2,
   "metadata": {
    "code_folding": []
   },
   "outputs": [],
   "source": [
    "#================================================基本列算法=======================================================\n",
    "def least_rank_poly(P):                    #输出一个多项式集合 P 中rank最小的一个多项式  \n",
    "    n=len(P)\n",
    "    f=list(P)[0]\n",
    "    for item in P:\n",
    "        if(is_rank_smaller(item,f)):\n",
    "            f=item\n",
    "    return f\n",
    "def reduce_element(P,f):                   #输出一个多项式集合P中【相对于多项式f约化的所有多项式】组成的集合\n",
    "    re=set()\n",
    "    for item in P:\n",
    "        if(is_reduced(item,f)):\n",
    "            re.add(item)\n",
    "    return re\n",
    "#输出多项式集合P的基本列（P中不包含0）\n",
    "def base_set(P):\n",
    "    print(\"==================   基本列算法 function!!  ===============\\n\")\n",
    "    F=P\n",
    "    B=[]\n",
    "    F=P\n",
    "    while len(F)!=0:\n",
    "        f=least_rank_poly(F)\n",
    "        B.append(f)\n",
    "        if cls(f)==0:\n",
    "            print(\"基本列算法 1\\n\")\n",
    "            F=set()\n",
    "        else:\n",
    "            print(\"基本列算法 2\\n\")\n",
    "            F.remove(f)\n",
    "            F=reduce_element(F,f)\n",
    "        print(\"基本列算法 a while loop\\n\")\n",
    "    print(\"==================    基本列算法 END   !!  ================\\n\")\n",
    "\n",
    "    return B"
   ]
  },
  {
   "cell_type": "code",
   "execution_count": 3,
   "metadata": {
    "code_folding": []
   },
   "outputs": [],
   "source": [
    "#================================================特征列算法=======================================================\n",
    "def is_there_a_constance(P):\n",
    "    for f in P:\n",
    "        if(is_constance(f)==true):\n",
    "            return true\n",
    "    return false\n",
    "\n",
    "#输出多项式集合P的特征列\n",
    "def char_set(P):\n",
    "    print(\"========================================   特征列算法 function!!  ================================\\n\")\n",
    "    F=P\n",
    "    R=P\n",
    "    while len(R)!=0:\n",
    "        C=base_set(F)\n",
    "        if(is_there_a_constance(C)==true):\n",
    "            print(\"特征列算法 1\\n\")\n",
    "            R=set()\n",
    "        else:\n",
    "            print(\"特征列算法 2\\n\")\n",
    "            R=set()\n",
    "            F.difference_update(C)\n",
    "            for item in F:\n",
    "                R.add(prem_tri(item,C))\n",
    "            if(0 in R):\n",
    "                print(\"特征列算法 3\\n\")\n",
    "                R.remove(0)\n",
    "        F=P.union(R,C)\n",
    "        print(\"特征列算法 a while loop\\n\")\n",
    "    print(\"========================================   特征列算法 END   !!  ================================\\n\")\n",
    "\n",
    "    return C\n",
    "            \n",
    "        "
   ]
  },
  {
   "cell_type": "code",
   "execution_count": 4,
   "metadata": {},
   "outputs": [],
   "source": [
    "\"\"\"\n",
    "input:多项式集合 P\n",
    "output:特征列 G\n",
    "\"\"\"\n",
    "def char_set(P):\n",
    "    G=[]\n",
    "    F=P\n",
    "    R=set()\n",
    "    while true:\n",
    "        F=F.union(R)\n",
    "        Q=F\n",
    "        R=set()\n",
    "        G=[]\n",
    "        while len(Q)!=0:\n",
    "            g=least_rank_poly(Q)\n",
    "            G.append(g)\n",
    "            Q=reduce_element(Q,g)\n",
    "        \n",
    "    \n",
    "    \n",
    "    "
   ]
  },
  {
   "cell_type": "code",
   "execution_count": 5,
   "metadata": {
    "code_folding": []
   },
   "outputs": [],
   "source": [
    "##===============================================  数据  ==================================================\n",
    "R.<x_1, x_2, x_3, x_4, x_5, x_6, x_7, x_8, x_9, x_10, x_11>=ZZ[]\n",
    "h1=2*x_6-x_5-x_1\n",
    "h2=2*x_7-x_4\n",
    "h3=2*x_8-x_2-x_3\n",
    "h4=2*x_9-x_4\n",
    "h5=(x_8-x_6)*x_11-(x_9-x_7)*x_10+x_6*x_9-x_7*x_8\n",
    "h6=(x_3-x_1)*x_11-(x_10-x_1)*x_4"
   ]
  },
  {
   "cell_type": "code",
   "execution_count": null,
   "metadata": {},
   "outputs": [],
   "source": [
    "P={h1,h2,h3,h4,h5}\n",
    "\n",
    "char_set(P)\n"
   ]
  },
  {
   "cell_type": "code",
   "execution_count": null,
   "metadata": {},
   "outputs": [],
   "source": []
  }
 ],
 "metadata": {
  "kernelspec": {
   "display_name": "SageMath 9.0",
   "language": "sage",
   "name": "sagemath"
  },
  "language_info": {
   "codemirror_mode": {
    "name": "ipython",
    "version": 3
   },
   "file_extension": ".py",
   "mimetype": "text/x-python",
   "name": "python",
   "nbconvert_exporter": "python",
   "pygments_lexer": "ipython3",
   "version": "3.8.5"
  },
  "toc": {
   "base_numbering": 1,
   "nav_menu": {},
   "number_sections": true,
   "sideBar": true,
   "skip_h1_title": true,
   "title_cell": "Table of Contents",
   "title_sidebar": "Contents",
   "toc_cell": true,
   "toc_position": {},
   "toc_section_display": true,
   "toc_window_display": true
  },
  "varInspector": {
   "cols": {
    "lenName": 16,
    "lenType": 16,
    "lenVar": 40
   },
   "kernels_config": {
    "python": {
     "delete_cmd_postfix": "",
     "delete_cmd_prefix": "del ",
     "library": "var_list.py",
     "varRefreshCmd": "print(var_dic_list())"
    },
    "r": {
     "delete_cmd_postfix": ") ",
     "delete_cmd_prefix": "rm(",
     "library": "var_list.r",
     "varRefreshCmd": "cat(var_dic_list()) "
    }
   },
   "types_to_exclude": [
    "module",
    "function",
    "builtin_function_or_method",
    "instance",
    "_Feature"
   ],
   "window_display": false
  },
  "widgets": {
   "application/vnd.jupyter.widget-state+json": {
    "state": {},
    "version_major": 1,
    "version_minor": 0
   }
  }
 },
 "nbformat": 4,
 "nbformat_minor": 4
}
