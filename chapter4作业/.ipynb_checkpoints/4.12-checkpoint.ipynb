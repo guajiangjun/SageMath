{
 "cells": [
  {
   "cell_type": "code",
   "execution_count": 1,
   "metadata": {},
   "outputs": [
    {
     "name": "stdout",
     "output_type": "stream",
     "text": [
      "U: x + 2\n",
      "W: x + 1\n",
      "E: -3*x*z^2 + 3*y*z^2 - 3*z^3 - x*y + x*z - 3*z^2 - 2*y + 2*z\n",
      "(-1) * (x - y + z) * (3*z^2 - x - 2)\n"
     ]
    }
   ],
   "source": [
    "R.<x,y,z>=ZZ[]\n",
    "B=x^2-3*x*z^2+2*x-x*y+3*y*z^2-2*y+x*z-3*z^3+2*z\n",
    "A=B(x,y-1,z)\n",
    "I=ideal(y,z)\n",
    "SS.<t,p,q>=R.quotient(I)\n",
    "U0=x+2\n",
    "W0=x+1\n",
    "U=U0\n",
    "W=W0\n",
    "E=A-U*W\n",
    "print(\"U:\",U)\n",
    "print(\"W:\",W)\n",
    "print(\"E:\",E)\n",
    "S=1\n",
    "V=-1\n",
    "print(B.factor())\n",
    "i=2"
   ]
  },
  {
   "cell_type": "code",
   "execution_count": 2,
   "metadata": {},
   "outputs": [
    {
     "name": "stdout",
     "output_type": "stream",
     "text": [
      "--------------------- i=: 2 -------------------------\n",
      "-t*p + t*q - 2*p + 2*q\n",
      "U: x + 2\n",
      "W: x - y + z + 1\n",
      "E: -3*x*z^2 + 3*y*z^2 - 3*z^3 - 3*z^2\n"
     ]
    }
   ],
   "source": [
    "print(\"--------------------- i=:\",i,\"-------------------------\")\n",
    "SS.<t,p,q>=R.quotient(I^i)\n",
    "print(SS(E))\n",
    "C1=-x-2\n",
    "C2=x+2\n",
    "\n",
    "S1=(S*C1)%W0\n",
    "T1=(C1-S1*U0)//W0\n",
    "\n",
    "S2=(S*C2)%W0\n",
    "T2=(C2-S2*U0)//W0\n",
    "\n",
    "U=U+T1*y+T2*z\n",
    "W=W+S1*y+S2*z\n",
    "E=A-U*W\n",
    "print(\"U:\",U)\n",
    "print(\"W:\",W)\n",
    "print(\"E:\",E)\n",
    "i+=1"
   ]
  },
  {
   "cell_type": "code",
   "execution_count": 3,
   "metadata": {},
   "outputs": [
    {
     "name": "stdout",
     "output_type": "stream",
     "text": [
      "--------------------- i=: 3 -------------------------\n",
      "-3*t*q^2 - 3*q^2\n",
      "U: -3*z^2 + x + 2\n",
      "W: x - y + z + 1\n",
      "E: 0\n"
     ]
    }
   ],
   "source": [
    "print(\"--------------------- i=:\",i,\"-------------------------\")\n",
    "SS.<t,p,q>=R.quotient(I^i)\n",
    "print(SS(E))\n",
    "C=-3*x-3\n",
    "S=(S*C)%W0\n",
    "T=(C-S*U0)//W0\n",
    "U=U+T*z^2\n",
    "W=W+S*z^2\n",
    "E=A-U*W\n",
    "print(\"U:\",U)\n",
    "print(\"W:\",W)\n",
    "print(\"E:\",E)\n",
    "i+=1"
   ]
  },
  {
   "cell_type": "code",
   "execution_count": 4,
   "metadata": {},
   "outputs": [
    {
     "name": "stdout",
     "output_type": "stream",
     "text": [
      "(-1) * (x - y + z) * (3*z^2 - x - 2)\n",
      "(-1) * (x - y + z) * (3*z^2 - x - 2)\n"
     ]
    }
   ],
   "source": [
    "print(B.factor())\n",
    "B=A(x,y+1,z)\n",
    "print(B.factor())"
   ]
  },
  {
   "cell_type": "code",
   "execution_count": null,
   "metadata": {},
   "outputs": [],
   "source": []
  }
 ],
 "metadata": {
  "kernelspec": {
   "display_name": "SageMath 9.0",
   "language": "sage",
   "name": "sagemath"
  },
  "language_info": {
   "codemirror_mode": {
    "name": "ipython",
    "version": 3
   },
   "file_extension": ".py",
   "mimetype": "text/x-python",
   "name": "python",
   "nbconvert_exporter": "python",
   "pygments_lexer": "ipython3",
   "version": "3.8.5"
  }
 },
 "nbformat": 4,
 "nbformat_minor": 4
}
