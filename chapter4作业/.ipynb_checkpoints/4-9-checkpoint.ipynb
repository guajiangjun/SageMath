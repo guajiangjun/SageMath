{
 "cells": [
  {
   "cell_type": "code",
   "execution_count": 1,
   "metadata": {},
   "outputs": [
    {
     "data": {
      "text/plain": [
       "8*x^5 + 10*x^4 + 8*x^3 + 7*x^2 + 10*x + 8"
      ]
     },
     "execution_count": 1,
     "metadata": {},
     "output_type": "execute_result"
    }
   ],
   "source": [
    "#4.9\n",
    "#分解f=x^6-3*x^5+x^4-3*x^3-x^2-3*x+1   \n",
    "R.<x>=GF(11)[]\n",
    "f=x^6-3*x^5+x^4-3*x^3-x^2-3*x+1 \n",
    "u=x^55\n",
    "u=u%f\n",
    "u.coefficients(sparse=False) \n",
    "u"
   ]
  },
  {
   "cell_type": "code",
   "execution_count": 2,
   "metadata": {},
   "outputs": [],
   "source": [
    "A = matrix(GF(11),[[1,0,0,0,0,0],[3, 5, 8, 8, 6, 5],[3, 6, 6, 1, 10,0],[9, 4, 10, 3, 7, 9],[7, 8, 10, 0, 0, 8],[8, 10, 7, 8, 10, 8]])"
   ]
  },
  {
   "cell_type": "code",
   "execution_count": 7,
   "metadata": {},
   "outputs": [
    {
     "data": {
      "text/plain": [
       "Vector space of degree 6 and dimension 3 over Finite Field of size 11\n",
       "Basis matrix:\n",
       "[1 0 0 0 0 0]\n",
       "[0 1 0 6 1 3]\n",
       "[0 0 1 6 0 8]"
      ]
     },
     "execution_count": 7,
     "metadata": {},
     "output_type": "execute_result"
    }
   ],
   "source": [
    "\n",
    "kernel(A-identity_matrix(GF(11),6))"
   ]
  },
  {
   "cell_type": "code",
   "execution_count": 4,
   "metadata": {},
   "outputs": [
    {
     "name": "stdout",
     "output_type": "stream",
     "text": [
      "x + 1\n",
      "x^3 + 2*x^2 + 3*x + 4\n",
      "x^2 + 5*x + 3\n"
     ]
    }
   ],
   "source": [
    "f2=x+6*x^3+x^4+3*x^5\n",
    "print(gcd(f,f2-2))\n",
    "print(gcd(f,f2-5))\n",
    "print(gcd(f,f2-10))"
   ]
  },
  {
   "cell_type": "code",
   "execution_count": 5,
   "metadata": {},
   "outputs": [
    {
     "data": {
      "text/plain": [
       "(x + 1) * (x^2 + 5*x + 3) * (x^3 + 2*x^2 + 3*x + 4)"
      ]
     },
     "execution_count": 5,
     "metadata": {},
     "output_type": "execute_result"
    }
   ],
   "source": [
    "f.factor()"
   ]
  },
  {
   "cell_type": "code",
   "execution_count": null,
   "metadata": {},
   "outputs": [],
   "source": []
  }
 ],
 "metadata": {
  "kernelspec": {
   "display_name": "SageMath 9.0",
   "language": "sage",
   "name": "sagemath"
  },
  "language_info": {
   "codemirror_mode": {
    "name": "ipython",
    "version": 3
   },
   "file_extension": ".py",
   "mimetype": "text/x-python",
   "name": "python",
   "nbconvert_exporter": "python",
   "pygments_lexer": "ipython3",
   "version": "3.8.5"
  }
 },
 "nbformat": 4,
 "nbformat_minor": 4
}
