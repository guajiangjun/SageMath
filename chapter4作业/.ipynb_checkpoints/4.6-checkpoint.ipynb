{
 "cells": [
  {
   "cell_type": "code",
   "execution_count": 1,
   "metadata": {},
   "outputs": [
    {
     "data": {
      "text/plain": [
       "(-x^3 + x*y^2 + z + 1) * (-x^3 + x*y^2 + z - 1)"
      ]
     },
     "execution_count": 1,
     "metadata": {},
     "output_type": "execute_result"
    }
   ],
   "source": [
    "R.<x,y,z>=GF(3)[]\n",
    "f=x^6-2*x^4*y^2+x^3*z+x^2*y^4-x*y^2*z+z^2-1\n",
    "I=ideal(y,z-1)\n",
    "S.<t,p,q>=R.quotient(I)\n",
    "u=x^3+1\n",
    "fenmu=-2*u+1\n",
    "f.factor()"
   ]
  },
  {
   "cell_type": "code",
   "execution_count": 2,
   "metadata": {},
   "outputs": [
    {
     "name": "stdout",
     "output_type": "stream",
     "text": [
      "S(-f+u^2-u)/S(fenmu): -q + 1\n",
      "u: x^3 - z - 1\n"
     ]
    }
   ],
   "source": [
    "S.<t,p,q>=R.quotient(I^2)\n",
    "print(\"S(-f+u^2-u)/S(fenmu):\",S(-f+u^2-u)/S(fenmu))\n",
    "u=u+(-z+1)\n",
    "print(\"u:\",u)"
   ]
  },
  {
   "cell_type": "code",
   "execution_count": 3,
   "metadata": {},
   "outputs": [
    {
     "name": "stdout",
     "output_type": "stream",
     "text": [
      "S(-f+u^2-u)/S(fenmu): -t*p^2\n",
      "u: x^3 - x*y^2 - z - 1\n"
     ]
    }
   ],
   "source": [
    "S.<t,p,q>=R.quotient(I^3)\n",
    "print(\"S(-f+u^2-u)/S(fenmu):\",S(-f+u^2-u)/S(fenmu))\n",
    "u=u+(-x*y^2)\n",
    "print(\"u:\",u)"
   ]
  },
  {
   "cell_type": "code",
   "execution_count": 4,
   "metadata": {},
   "outputs": [
    {
     "name": "stdout",
     "output_type": "stream",
     "text": [
      "0\n"
     ]
    }
   ],
   "source": [
    "print(f-u^2+u)"
   ]
  },
  {
   "cell_type": "code",
   "execution_count": null,
   "metadata": {},
   "outputs": [],
   "source": []
  }
 ],
 "metadata": {
  "kernelspec": {
   "display_name": "SageMath 9.0",
   "language": "sage",
   "name": "sagemath"
  },
  "language_info": {
   "codemirror_mode": {
    "name": "ipython",
    "version": 3
   },
   "file_extension": ".py",
   "mimetype": "text/x-python",
   "name": "python",
   "nbconvert_exporter": "python",
   "pygments_lexer": "ipython3",
   "version": "3.8.5"
  }
 },
 "nbformat": 4,
 "nbformat_minor": 4
}
