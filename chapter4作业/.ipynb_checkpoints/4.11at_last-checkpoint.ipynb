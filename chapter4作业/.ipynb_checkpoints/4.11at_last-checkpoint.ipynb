{
 "cells": [
  {
   "cell_type": "code",
   "execution_count": 1,
   "metadata": {},
   "outputs": [
    {
     "name": "stdout",
     "output_type": "stream",
     "text": [
      "A: x^4 - 394*x^3 - 4193*x^2 + 126*x + 596\n",
      "B: x^2 + x + 1\n",
      "C: x^2 + x - 1\n",
      "E: -396*x^3 - 4194*x^2 + 126*x + 597\n"
     ]
    }
   ],
   "source": [
    "R.<x>=ZZ[]\n",
    "##数据3#################################################\n",
    "A=x^4-394*x^3-4193*x^2+126*x+596\n",
    "B0=x^2+x+1\n",
    "C0=x^2+x-1\n",
    "p=3\n",
    "U_bar=-1\n",
    "V_bar=1\n",
    "\n",
    "\n",
    "S.<t>=GF(p)[]\n",
    "B=B0\n",
    "C=C0\n",
    "E=A-B*C\n",
    "print(\"A:\",A)\n",
    "print(\"B:\",B)\n",
    "print(\"C:\",C)\n",
    "print(\"E:\",E)\n",
    "i=1"
   ]
  },
  {
   "cell_type": "code",
   "execution_count": 2,
   "metadata": {},
   "outputs": [
    {
     "name": "stdout",
     "output_type": "stream",
     "text": [
      "============================================== i= 1  ===============================================\n",
      "delta_B: 1\n",
      "delta_C: -1\n",
      "B: x^2 + x + 4\n",
      "C: x^2 + x - 4\n",
      "E: -396*x^3 - 4194*x^2 + 126*x + 612\n"
     ]
    }
   ],
   "source": [
    "print(\"============================================== i=\",i,\" ===============================================\")\n",
    "delta_B=R(   S(E/p^i) %   S(B0) )\n",
    "print(\"delta_B:\",delta_B)\n",
    "delta_C=R(  -S(E/p^i) %   S(C0))\n",
    "delta_C=-1\n",
    "print(\"delta_C:\",delta_C)\n",
    "\n",
    "\n",
    "B=B+delta_B*p^i\n",
    "C=C+delta_C*p^i\n",
    "E=A-B*C\n",
    "print(\"B:\",B)\n",
    "print(\"C:\",C)\n",
    "print(\"E:\",E)\n",
    "\n",
    "i+=1"
   ]
  },
  {
   "cell_type": "code",
   "execution_count": 3,
   "metadata": {},
   "outputs": [
    {
     "name": "stdout",
     "output_type": "stream",
     "text": [
      "============================================== i= 2  ===============================================\n",
      "delta_B: 1\n",
      "delta_C: x\n",
      "B: x^2 + x + 13\n",
      "C: x^2 + 10*x - 4\n",
      "E: -405*x^3 - 4212*x^2 + 648\n"
     ]
    }
   ],
   "source": [
    "print(\"============================================== i=\",i,\" ===============================================\")\n",
    "delta_B=R(   S(E/p^i) %   S(B0) )\n",
    "print(\"delta_B:\",delta_B)\n",
    "delta_C=R(  -S(E/p^i) %   S(C0))\n",
    "print(\"delta_C:\",delta_C)\n",
    "B=B+delta_B*p^i\n",
    "C=C+delta_C*p^i\n",
    "E=A-B*C\n",
    "print(\"B:\",B)\n",
    "print(\"C:\",C)\n",
    "print(\"E:\",E)\n",
    "i+=1"
   ]
  },
  {
   "cell_type": "code",
   "execution_count": 4,
   "metadata": {},
   "outputs": [
    {
     "name": "stdout",
     "output_type": "stream",
     "text": [
      "============================================== i= 3  ===============================================\n",
      "delta_B: 0\n",
      "delta_C: 0\n",
      "B: x^2 + x + 13\n",
      "C: x^2 + 10*x - 4\n",
      "E: -405*x^3 - 4212*x^2 + 648\n"
     ]
    }
   ],
   "source": [
    "print(\"============================================== i=\",i,\" ===============================================\")\n",
    "delta_B=R(   S(E/p^i) %   S(B0) )\n",
    "print(\"delta_B:\",delta_B)\n",
    "delta_C=R(  -S(E/p^i) %   S(C0))\n",
    "print(\"delta_C:\",delta_C)\n",
    "\n",
    "\n",
    "B=B+delta_B*p^i\n",
    "C=C+delta_C*p^i\n",
    "E=A-B*C\n",
    "print(\"B:\",B)\n",
    "print(\"C:\",C)\n",
    "print(\"E:\",E)\n",
    "\n",
    "i+=1"
   ]
  },
  {
   "cell_type": "code",
   "execution_count": 5,
   "metadata": {},
   "outputs": [
    {
     "name": "stdout",
     "output_type": "stream",
     "text": [
      "============================================== i= 4  ===============================================\n",
      "delta_B: x + 1\n",
      "delta_C: 0\n",
      "B: x^2 + 82*x + 94\n",
      "C: x^2 + 10*x - 4\n",
      "E: -486*x^3 - 5103*x^2 - 486*x + 972\n"
     ]
    }
   ],
   "source": [
    "print(\"============================================== i=\",i,\" ===============================================\")\n",
    "delta_B=R(   S(E/p^i) %   S(B0) )\n",
    "print(\"delta_B:\",delta_B)\n",
    "delta_C=R(  -S(E/p^i) %   S(C0))\n",
    "print(\"delta_C:\",delta_C)\n",
    "\n",
    "\n",
    "B=B+delta_B*p^i\n",
    "C=C+delta_C*p^i\n",
    "E=A-B*C\n",
    "print(\"B:\",B)\n",
    "print(\"C:\",C)\n",
    "print(\"E:\",E)\n",
    "\n",
    "i+=1"
   ]
  },
  {
   "cell_type": "code",
   "execution_count": 6,
   "metadata": {},
   "outputs": [
    {
     "name": "stdout",
     "output_type": "stream",
     "text": [
      "============================================== i= 5  ===============================================\n",
      "delta_B: x - 1\n",
      "delta_C: 0\n",
      "B: x^2 + 325*x - 149\n",
      "C: x^2 + 10*x - 4\n",
      "E: -729*x^3 - 7290*x^2 + 2916*x\n"
     ]
    }
   ],
   "source": [
    "print(\"============================================== i=\",i,\" ===============================================\")\n",
    "delta_B=R(   S(E/p^i) %   S(B0) )\n",
    "delta_B=x-1\n",
    "print(\"delta_B:\",delta_B)\n",
    "delta_C=R(  -S(E/p^i) %   S(C0))\n",
    "print(\"delta_C:\",delta_C)\n",
    "\n",
    "\n",
    "B=B+delta_B*p^i\n",
    "C=C+delta_C*p^i\n",
    "E=A-B*C\n",
    "print(\"B:\",B)\n",
    "print(\"C:\",C)\n",
    "print(\"E:\",E)\n",
    "\n",
    "i+=1"
   ]
  },
  {
   "cell_type": "code",
   "execution_count": 7,
   "metadata": {},
   "outputs": [
    {
     "name": "stdout",
     "output_type": "stream",
     "text": [
      "============================================== i= 6  ===============================================\n",
      "delta_B: -x\n",
      "delta_C: 0\n",
      "B: x^2 - 404*x - 149\n",
      "C: x^2 + 10*x - 4\n",
      "E: 0\n"
     ]
    }
   ],
   "source": [
    "print(\"============================================== i=\",i,\" ===============================================\")\n",
    "delta_B=R(   S(E/p^i) %   S(B0) )\n",
    "delta_B=-x\n",
    "print(\"delta_B:\",delta_B)\n",
    "delta_C=R(  -S(E/p^i) %   S(C0))\n",
    "print(\"delta_C:\",delta_C)\n",
    "\n",
    "\n",
    "B=B+delta_B*p^i\n",
    "C=C+delta_C*p^i\n",
    "E=A-B*C\n",
    "print(\"B:\",B)\n",
    "print(\"C:\",C)\n",
    "print(\"E:\",E)\n",
    "\n",
    "i+=1"
   ]
  }
 ],
 "metadata": {
  "kernelspec": {
   "display_name": "SageMath 9.0",
   "language": "sage",
   "name": "sagemath"
  },
  "language_info": {
   "codemirror_mode": {
    "name": "ipython",
    "version": 3
   },
   "file_extension": ".py",
   "mimetype": "text/x-python",
   "name": "python",
   "nbconvert_exporter": "python",
   "pygments_lexer": "ipython3",
   "version": "3.8.5"
  }
 },
 "nbformat": 4,
 "nbformat_minor": 4
}
