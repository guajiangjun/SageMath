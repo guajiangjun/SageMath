{
 "cells": [
  {
   "cell_type": "code",
   "execution_count": 3,
   "metadata": {},
   "outputs": [
    {
     "name": "stdout",
     "output_type": "stream",
     "text": [
      "(x + 1)^2 * (x^8 + x^6 + x^3 + 1)\n"
     ]
    }
   ],
   "source": [
    "R.<x>=ZZ[]\n",
    "f=R([1,2,1,1,2,1,1,2,2,2,1])\n",
    "print(f.factor())\n",
    "g=gcd(f,f.diff())\n",
    "h=f/g"
   ]
  },
  {
   "cell_type": "code",
   "execution_count": 5,
   "metadata": {},
   "outputs": [
    {
     "name": "stdout",
     "output_type": "stream",
     "text": [
      "p= x^8 + x^6 + x^3 + 1\n"
     ]
    }
   ],
   "source": [
    "g_=g\n",
    "h_=h\n",
    "g=gcd(g,g.diff())\n",
    "h=g_/g\n",
    "p=h_/h\n",
    "print(\"p=\",p)"
   ]
  },
  {
   "cell_type": "code",
   "execution_count": 6,
   "metadata": {},
   "outputs": [
    {
     "name": "stdout",
     "output_type": "stream",
     "text": [
      "p= x + 1\n"
     ]
    }
   ],
   "source": [
    "g_=g\n",
    "h_=h\n",
    "g=gcd(g,g.diff())\n",
    "h=g_/g\n",
    "p=h_/h\n",
    "print(\"p=\",p)"
   ]
  },
  {
   "cell_type": "code",
   "execution_count": 7,
   "metadata": {},
   "outputs": [
    {
     "name": "stdout",
     "output_type": "stream",
     "text": [
      "p= 1\n"
     ]
    }
   ],
   "source": [
    "g_=g\n",
    "h_=h\n",
    "g=gcd(g,g.diff())\n",
    "h=g_/g\n",
    "p=h_/h\n",
    "print(\"p=\",p)"
   ]
  },
  {
   "cell_type": "code",
   "execution_count": null,
   "metadata": {},
   "outputs": [],
   "source": []
  }
 ],
 "metadata": {
  "kernelspec": {
   "display_name": "SageMath 9.0",
   "language": "sage",
   "name": "sagemath"
  },
  "language_info": {
   "codemirror_mode": {
    "name": "ipython",
    "version": 3
   },
   "file_extension": ".py",
   "mimetype": "text/x-python",
   "name": "python",
   "nbconvert_exporter": "python",
   "pygments_lexer": "ipython3",
   "version": "3.8.5"
  }
 },
 "nbformat": 4,
 "nbformat_minor": 4
}
