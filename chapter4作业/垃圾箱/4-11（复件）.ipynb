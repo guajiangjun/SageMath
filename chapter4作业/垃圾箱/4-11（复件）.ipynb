{
 "cells": [
  {
   "cell_type": "code",
   "execution_count": 1,
   "metadata": {},
   "outputs": [
    {
     "name": "stdout",
     "output_type": "stream",
     "text": [
      "A: x^3 + 10*x^2 - 432*x + 5040\n",
      "B0: x\n",
      "C0: x^2 - 2\n",
      "U_bar: 3*t\n",
      "V_bar: 2\n",
      "E: 10*x^2 - 430*x + 5040\n",
      "S(A)==S(B)S(C): True\n"
     ]
    }
   ],
   "source": [
    "#4-11\n",
    "import  math\n",
    "R.<x>=ZZ[]\n",
    "\n",
    "\n",
    "\n",
    "##数据1#################################################\n",
    "A=x^4-5*x^2-10*x+99\n",
    "B0=x^2+1\n",
    "C0=x^2-1\n",
    "p=5\n",
    "p0=2\n",
    "\n",
    "\n",
    "##数据================#################################################\n",
    "A=x^4-394*x^3-4193*x^2+126*x+596\n",
    "B0=x^2+x+1\n",
    "C0=x^2+x-1\n",
    "p=3\n",
    "p0=1\n",
    "##数据2#################################################\n",
    "A=x^3+10*x^2-432*x+5040\n",
    "B0=x\n",
    "C0=x^2-2\n",
    "p=5\n",
    "p0=2\n",
    "###end#################################################\n",
    "\n",
    "S.<t>=GF(p)[]\n",
    "_,U_bar,V_bar=xgcd(S(B0),S(C0))\n",
    "B=B0\n",
    "C=C0\n",
    "E=A-B*C\n",
    "print(\"A:\",A)\n",
    "print(\"B0:\",B0)\n",
    "print(\"C0:\",C0)\n",
    "print(\"U_bar:\",U_bar)\n",
    "print(\"V_bar:\",V_bar)\n",
    "print(\"E:\",E)\n",
    "B0=S(B0)\n",
    "C0=S(C0)\n",
    "i=1\n",
    "print(\"S(A)==S(B)S(C):\",S(A)==S(B)*S(C))"
   ]
  },
  {
   "cell_type": "code",
   "execution_count": 2,
   "metadata": {},
   "outputs": [],
   "source": [
    "def phi_reverse(f):\n",
    "    a=R(f).coefficients()   \n",
    "    for i in range(len(a)):\n",
    "        if(a[i]>p0):\n",
    "            a[i]-=p\n",
    "    return R(a)"
   ]
  },
  {
   "cell_type": "code",
   "execution_count": 3,
   "metadata": {},
   "outputs": [
    {
     "name": "stdout",
     "output_type": "stream",
     "text": [
      "=======================================i=: 1 =======================================\n",
      "delta_B: 1\n",
      "delta_C: x - 1\n",
      "B: x + 5\n",
      "C: x^2 + 5*x - 7\n",
      "E: -450*x + 5075\n",
      "=======================================i=: 2 =======================================\n",
      "delta_B: 1\n",
      "delta_C: -x + 2\n",
      "B: x + 30\n",
      "C: x^2 - 20*x + 43\n",
      "E: 125*x + 3750\n",
      "=======================================i=: 3 =======================================\n",
      "delta_B: 0\n",
      "delta_C: 1\n",
      "B: x + 30\n",
      "C: x^2 - 20*x + 168\n",
      "E: 0\n"
     ]
    }
   ],
   "source": [
    "while(E!=R(0)):\n",
    "    print(\"=======================================i=:\",i,\"=======================================\")\n",
    "    delta_B=phi_reverse(S(E/p^i)*V_bar%B0)\n",
    "    print(\"delta_B:\",delta_B)\n",
    "    delta_C=phi_reverse(S(E/p^i)*U_bar%C0)\n",
    "    print(\"delta_C:\",delta_C)\n",
    "    B=B+delta_B*(p**i)\n",
    "    C=C+delta_C*(p**i)\n",
    "    E=A-B*C\n",
    "    print(\"B:\",B)\n",
    "    print(\"C:\",C)\n",
    "    print(\"E:\",E)\n",
    "    i+=1"
   ]
  },
  {
   "cell_type": "code",
   "execution_count": null,
   "metadata": {},
   "outputs": [],
   "source": []
  }
 ],
 "metadata": {
  "kernelspec": {
   "display_name": "SageMath 9.0",
   "language": "sage",
   "name": "sagemath"
  },
  "language_info": {
   "codemirror_mode": {
    "name": "ipython",
    "version": 3
   },
   "file_extension": ".py",
   "mimetype": "text/x-python",
   "name": "python",
   "nbconvert_exporter": "python",
   "pygments_lexer": "ipython3",
   "version": "3.8.5"
  }
 },
 "nbformat": 4,
 "nbformat_minor": 4
}
