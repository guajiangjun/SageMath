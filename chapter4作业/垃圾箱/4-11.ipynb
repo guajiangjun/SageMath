{
 "cells": [
  {
   "cell_type": "code",
   "execution_count": 1,
   "metadata": {},
   "outputs": [
    {
     "name": "stdout",
     "output_type": "stream",
     "text": [
      "A: x^4 - 394*x^3 - 4193*x^2 + 126*x + 596\n",
      "B: x^2 + x + 1\n",
      "C: x^2 + x - 1\n",
      "E: -396*x^3 - 4194*x^2 + 126*x + 597\n"
     ]
    }
   ],
   "source": [
    "#4-11\n",
    "import  math\n",
    "R.<x>=ZZ[]\n",
    "\n",
    "\n",
    "\n",
    "\n",
    "##数据1#################################################\n",
    "A=x^4-5*x^2-10*x+99\n",
    "B0=x^2+1\n",
    "C0=x^2-1\n",
    "p=5\n",
    "p0=2\n",
    "U_bar=3\n",
    "V_bar=2\n",
    "##数据2#################################################\n",
    "A=x^3+10*x^2-432*x+5040\n",
    "B0=x\n",
    "C0=x^2-2\n",
    "p=5\n",
    "p0=2\n",
    "U_bar=-2*x\n",
    "V_bar=2\n",
    "\n",
    "##数据3#################################################\n",
    "A=x^4-394*x^3-4193*x^2+126*x+596\n",
    "B0=x^2+x+1\n",
    "C0=x^2+x-1\n",
    "p=3\n",
    "p0=1000\n",
    "U_bar=-1\n",
    "V_bar=1\n",
    "\n",
    "###end#################################################\n",
    "S.<t>=GF(p)[]\n",
    "B=B0\n",
    "C=C0\n",
    "E=A-B*C\n",
    "print(\"A:\",A)\n",
    "print(\"B:\",B)\n",
    "print(\"C:\",C)\n",
    "print(\"E:\",E)\n",
    "i=1"
   ]
  },
  {
   "cell_type": "code",
   "execution_count": 2,
   "metadata": {},
   "outputs": [],
   "source": [
    "def phi_reverse(f):\n",
    "    a=R(f).coefficients()   \n",
    "    for i in range(len(a)):\n",
    "        if(a[i]>p0):\n",
    "            a[i]-=p\n",
    "    return R(a)"
   ]
  },
  {
   "cell_type": "code",
   "execution_count": 3,
   "metadata": {},
   "outputs": [
    {
     "name": "stdout",
     "output_type": "stream",
     "text": [
      "1\n",
      "delta_B: 1\n",
      "delta_C: 2\n",
      "B: x^2 + x + 4\n",
      "C: x^2 + x + 5\n",
      "E: -396*x^3 - 4203*x^2 + 117*x + 576\n"
     ]
    }
   ],
   "source": [
    "print(i)\n",
    "delta_B=phi_reverse((S(E/p^i)*S(V_bar))%S(B0))\n",
    "print(\"delta_B:\",delta_B)\n",
    "delta_C=phi_reverse((S(E/p^i)*S(U_bar))%S(C0))\n",
    "print(\"delta_C:\",delta_C)\n",
    "B=B+delta_B*p^i\n",
    "C=C+delta_C*p^i\n",
    "E=A-B*C\n",
    "print(\"B:\",B)\n",
    "print(\"C:\",C)\n",
    "print(\"E:\",E)\n",
    "i+=1"
   ]
  },
  {
   "cell_type": "code",
   "execution_count": 4,
   "metadata": {},
   "outputs": [
    {
     "name": "stdout",
     "output_type": "stream",
     "text": [
      "2\n",
      "delta_B: 1\n",
      "delta_C: x + 2\n",
      "B: x^2 + x + 13\n",
      "C: x^2 + 10*x + 23\n",
      "E: -405*x^3 - 4239*x^2 - 27*x + 297\n"
     ]
    }
   ],
   "source": [
    "print(i)\n",
    "delta_B=phi_reverse((S(E/p^i)*S(V_bar))%S(B0))\n",
    "print(\"delta_B:\",delta_B)\n",
    "delta_C=phi_reverse((S(E/p^i)*S(U_bar))%S(C0))\n",
    "print(\"delta_C:\",delta_C)\n",
    "B=B+delta_B*p^i\n",
    "C=C+delta_C*p^i\n",
    "E=A-B*C\n",
    "print(\"B:\",B)\n",
    "print(\"C:\",C)\n",
    "print(\"E:\",E)\n",
    "i+=1"
   ]
  },
  {
   "cell_type": "code",
   "execution_count": 5,
   "metadata": {},
   "outputs": [
    {
     "data": {
      "text/plain": [
       "2*t^2 + 2*t + 2"
      ]
     },
     "execution_count": 5,
     "metadata": {},
     "output_type": "execute_result"
    }
   ],
   "source": [
    "S(E/p^i)"
   ]
  },
  {
   "cell_type": "code",
   "execution_count": 6,
   "metadata": {},
   "outputs": [
    {
     "name": "stdout",
     "output_type": "stream",
     "text": [
      "3\n",
      "delta_B: 0\n",
      "delta_C: 2\n",
      "B: x^2 + x + 13\n",
      "C: x^2 + 10*x + 77\n",
      "E: -405*x^3 - 4293*x^2 - 81*x - 405\n"
     ]
    }
   ],
   "source": [
    "print(i)\n",
    "delta_B=phi_reverse((S(E/p^i)*S(V_bar))%S(B0))\n",
    "print(\"delta_B:\",delta_B)\n",
    "delta_C=phi_reverse((S(E/p^i)*S(U_bar))%S(C0))\n",
    "print(\"delta_C:\",delta_C)\n",
    "B=B+delta_B*p^i\n",
    "C=C+delta_C*p^i\n",
    "E=A-B*C\n",
    "print(\"B:\",B)\n",
    "print(\"C:\",C)\n",
    "print(\"E:\",E)\n",
    "i+=1"
   ]
  },
  {
   "cell_type": "code",
   "execution_count": 7,
   "metadata": {},
   "outputs": [
    {
     "name": "stdout",
     "output_type": "stream",
     "text": [
      "4\n",
      "delta_B: x + 1\n",
      "delta_C: 2\n",
      "B: x^2 + 82*x + 94\n",
      "C: x^2 + 10*x + 239\n",
      "E: -486*x^3 - 5346*x^2 - 20412*x - 21870\n"
     ]
    }
   ],
   "source": [
    "print(i)\n",
    "delta_B=phi_reverse((S(E/p^i)*S(V_bar))%S(B0))\n",
    "print(\"delta_B:\",delta_B)\n",
    "delta_C=phi_reverse((S(E/p^i)*S(U_bar))%S(C0))\n",
    "print(\"delta_C:\",delta_C)\n",
    "B=B+delta_B*p^i\n",
    "C=C+delta_C*p^i\n",
    "E=A-B*C\n",
    "print(\"B:\",B)\n",
    "print(\"C:\",C)\n",
    "print(\"E:\",E)\n",
    "i+=1"
   ]
  },
  {
   "cell_type": "code",
   "execution_count": null,
   "metadata": {},
   "outputs": [],
   "source": []
  },
  {
   "cell_type": "code",
   "execution_count": null,
   "metadata": {},
   "outputs": [],
   "source": []
  },
  {
   "cell_type": "code",
   "execution_count": null,
   "metadata": {},
   "outputs": [],
   "source": []
  }
 ],
 "metadata": {
  "kernelspec": {
   "display_name": "SageMath 9.0",
   "language": "sage",
   "name": "sagemath"
  },
  "language_info": {
   "codemirror_mode": {
    "name": "ipython",
    "version": 3
   },
   "file_extension": ".py",
   "mimetype": "text/x-python",
   "name": "python",
   "nbconvert_exporter": "python",
   "pygments_lexer": "ipython3",
   "version": "3.8.5"
  }
 },
 "nbformat": 4,
 "nbformat_minor": 4
}
