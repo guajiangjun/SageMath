{
 "cells": [
  {
   "cell_type": "code",
   "execution_count": 1,
   "metadata": {},
   "outputs": [
    {
     "name": "stdout",
     "output_type": "stream",
     "text": [
      "x^21 + 2*x^18 + 2*x^15 + x^12\n",
      "p: x + 1\n",
      "p: x + 2\n",
      "p: 1\n",
      "p: 1\n"
     ]
    }
   ],
   "source": [
    "R.<x>=GF(3)[]\n",
    "f=R([0,0,0,0,0,0,0,0,0,0,0,0,1,-3,0,8,-6,-6,8,0,-3,1])\n",
    "print(f)\n",
    "g=x^7+2*x^6+2*x^5+x^4\n",
    "F=g\n",
    "G=gcd(F,F.diff())\n",
    "H=F/G\n",
    "L=gcd(G,H)\n",
    "print(\"p:\",H/L)\n",
    "F=gcd(g,g.diff())\n",
    "G=gcd(F,F.diff())\n",
    "H=F/G\n",
    "L=gcd(G,H)\n",
    "print(\"p:\",H/L)\n",
    "F=gcd(F,F.diff())\n",
    "G=gcd(F,F.diff())\n",
    "H=F/G\n",
    "L=gcd(G,H)\n",
    "print(\"p:\",H/L)\n",
    "F=gcd(F,F.diff())\n",
    "G=gcd(F,F.diff())\n",
    "H=F/G\n",
    "L=gcd(G,H)\n",
    "print(\"p:\",H/L)"
   ]
  },
  {
   "cell_type": "code",
   "execution_count": 2,
   "metadata": {},
   "outputs": [
    {
     "data": {
      "text/plain": [
       "(x + 1)^3 * (x + 2)^6 * x^12"
      ]
     },
     "execution_count": 2,
     "metadata": {},
     "output_type": "execute_result"
    }
   ],
   "source": [
    "f.factor()"
   ]
  },
  {
   "cell_type": "code",
   "execution_count": null,
   "metadata": {},
   "outputs": [],
   "source": []
  }
 ],
 "metadata": {
  "kernelspec": {
   "display_name": "SageMath 9.0",
   "language": "sage",
   "name": "sagemath"
  },
  "language_info": {
   "codemirror_mode": {
    "name": "ipython",
    "version": 3
   },
   "file_extension": ".py",
   "mimetype": "text/x-python",
   "name": "python",
   "nbconvert_exporter": "python",
   "pygments_lexer": "ipython3",
   "version": "3.8.5"
  }
 },
 "nbformat": 4,
 "nbformat_minor": 4
}
