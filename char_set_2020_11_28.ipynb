{
 "cells": [
  {
   "cell_type": "code",
   "execution_count": 1,
   "metadata": {
    "code_folding": [
     0,
     2,
     4,
     12,
     14
    ]
   },
   "outputs": [],
   "source": [
    "#============================================  基本函数（1） =======================================================\n",
    "\n",
    "def lv(f):                           #lv(f)\n",
    "    return f.variables()[-1]\n",
    "def cls(f):                          #cls(f)\n",
    "    a = f.parent().gens()\n",
    "    if f.total_degree()==0:\n",
    "        return 0\n",
    "    var = lv(f)\n",
    "    for i in range(len(a)):\n",
    "        if(var==a[i]):\n",
    "            return i+1\n",
    "def ldeg(f):                         #ldeg(f)\n",
    "    return f.degree(lv(f))\n",
    "def ini(f):                          #ini(f)\n",
    "    return f.coefficient({lv(f):ldeg(f)})"
   ]
  },
  {
   "cell_type": "code",
   "execution_count": 2,
   "metadata": {
    "code_folding": [
     0,
     2,
     4
    ]
   },
   "outputs": [],
   "source": [
    "#=============================================  基本函数（2）=======================================================\n",
    "\n",
    "def is_reduced(f,g):                       #判断多项式 f 是否相对于多项式 g 是约化的\n",
    "    return f.degree(lv(g)) < ldeg(g)\n",
    "def is_rank_smaller(f,g):                  #判断多项式f的rank是否比多项式g小\n",
    "    if(cls(f) == 0 and cls(g) > 0):\n",
    "        return true\n",
    "    elif(cls(f) > 0 and cls(g) > 0): \n",
    "        if(cls(f) < cls(g)):\n",
    "            return true\n",
    "        elif(cls(f) == cls(g) and ldeg(f) < ldeg(g)):\n",
    "            return true\n",
    "        else:\n",
    "            return false\n",
    "    else:\n",
    "        return false \n",
    "def least_rank_poly(P):                    #输出一个多项式集合 P 中rank最小的一个多项式  \n",
    "    f=list(P)[0]\n",
    "    for item in P:\n",
    "        if(is_rank_smaller(item,f)):\n",
    "            f=item\n",
    "    return f\n",
    "def reduce_element(P,f):                   #输出一个多项式集合P中【相对于多项式f约化的所有多项式】组成的集合\n",
    "    re=set()\n",
    "    for item in P:\n",
    "        if(is_reduced(item,f)):\n",
    "            re.add(item)\n",
    "    return re"
   ]
  },
  {
   "cell_type": "code",
   "execution_count": 3,
   "metadata": {
    "code_folding": [
     0
    ]
   },
   "outputs": [],
   "source": [
    "#=============================================  基本函数（3）=======================================================\n",
    "\n",
    "def prem(f,g,var):                   #一个多项式对一个多项式伪除\n",
    "    rng=f.parent()\n",
    "    f1=f.polynomial(var)\n",
    "    g1=g.polynomial(var)\n",
    "    quo,rem=f1.pseudo_quo_rem(g1)\n",
    "    quo=rng(quo)\n",
    "    rem=rng(rem)\n",
    "    return quo,rem\n",
    "def prem_tri(f,T_):                   #一个多项式对一个三角列作伪除\n",
    "    r = f \n",
    "    T = T_\n",
    "    while len(T) != 0:\n",
    "        g = T.pop()\n",
    "        _,r = prem(r,g,lv(g))\n",
    "    return r\n",
    "def prem_set_tri(P,T):               #一个多项式集合对一个三角列作伪除\n",
    "    re = set()\n",
    "    for item in P:\n",
    "        re.add(prem_tri(item,T))\n",
    "    return re\n"
   ]
  },
  {
   "cell_type": "code",
   "execution_count": 4,
   "metadata": {
    "code_folding": []
   },
   "outputs": [],
   "source": [
    "#=============================================  基本函数（4）=======================================================\n",
    "def BaseSet(P):\n",
    "    f = least_rank_poly(P)\n",
    "    B = [f]\n",
    "    F = reduce_element(P,f)\n",
    "    if cls(f) == 0:\n",
    "        return B\n",
    "    while len(F) != 0:\n",
    "        f = least_rank_poly(F)\n",
    "        B.append(f)\n",
    "        F = reduce_element(F,f)\n",
    "    return B\n",
    "def CharSet(P):\n",
    "    F = P\n",
    "    B = BaseSet(F)\n",
    "    R = prem_set_tri(F,B).difference({0})\n",
    "    while len(R) != 0:\n",
    "        F = F.union(P,B)\n",
    "        B = BaseSet(F)\n",
    "        R = prem_set_tri(F,B).difference({0})\n",
    "    return B"
   ]
  },
  {
   "cell_type": "code",
   "execution_count": 9,
   "metadata": {
    "code_folding": []
   },
   "outputs": [
    {
     "data": {
      "text/plain": [
       "[-x1*x2 - 2*x2^2 + x3*x4 - 1]"
      ]
     },
     "execution_count": 9,
     "metadata": {},
     "output_type": "execute_result"
    }
   ],
   "source": [
    "R.<x1,x2,x3,x4>=ZZ[]\n",
    "f1=x1*x4+x3-x1*x2\n",
    "f2=x3*x4-2*x2^2-x1*x2-1\n",
    "f3=x1*x4^2+x4^2-x1*x2*x4-x2*x4+x1*x2+3*x2\n",
    "P={f1,f2,f3}"
   ]
  },
  {
   "cell_type": "code",
   "execution_count": null,
   "metadata": {},
   "outputs": [],
   "source": [
    "##===============================================  数据  ==================================================\n",
    "R.<x_1, x_2, x_3, x_4, x_5, x_6, x_7, x_8, x_9, x_10, x_11>=ZZ[]\n",
    "h1=2*x_6-x_5-x_1\n",
    "h2=2*x_7-x_4\n",
    "h3=2*x_8-x_2-x_3\n",
    "h4=2*x_9-x_4\n",
    "h5=(x_8-x_6)*x_11-(x_9-x_7)*x_10+x_6*x_9-x_7*x_8\n",
    "h6=(x_3-x_1)*x_11-(x_10-x_1)*x_4\n",
    "CharSet({h1,h2,h3,h4})"
   ]
  }
 ],
 "metadata": {
  "kernelspec": {
   "display_name": "SageMath 9.0",
   "language": "sage",
   "name": "sagemath"
  },
  "language_info": {
   "codemirror_mode": {
    "name": "ipython",
    "version": 3
   },
   "file_extension": ".py",
   "mimetype": "text/x-python",
   "name": "python",
   "nbconvert_exporter": "python",
   "pygments_lexer": "ipython3",
   "version": "3.8.5"
  },
  "toc": {
   "base_numbering": 1,
   "nav_menu": {},
   "number_sections": true,
   "sideBar": true,
   "skip_h1_title": false,
   "title_cell": "Table of Contents",
   "title_sidebar": "Contents",
   "toc_cell": false,
   "toc_position": {},
   "toc_section_display": true,
   "toc_window_display": false
  },
  "varInspector": {
   "cols": {
    "lenName": 16,
    "lenType": 16,
    "lenVar": 40
   },
   "kernels_config": {
    "python": {
     "delete_cmd_postfix": "",
     "delete_cmd_prefix": "del ",
     "library": "var_list.py",
     "varRefreshCmd": "print(var_dic_list())"
    },
    "r": {
     "delete_cmd_postfix": ") ",
     "delete_cmd_prefix": "rm(",
     "library": "var_list.r",
     "varRefreshCmd": "cat(var_dic_list()) "
    }
   },
   "types_to_exclude": [
    "module",
    "function",
    "builtin_function_or_method",
    "instance",
    "_Feature"
   ],
   "window_display": false
  },
  "widgets": {
   "application/vnd.jupyter.widget-state+json": {
    "state": {},
    "version_major": 1,
    "version_minor": 0
   }
  }
 },
 "nbformat": 4,
 "nbformat_minor": 4
}
