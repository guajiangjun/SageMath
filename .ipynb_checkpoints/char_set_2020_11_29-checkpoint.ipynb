{
 "cells": [
  {
   "cell_type": "code",
   "execution_count": 1,
   "metadata": {
    "code_folding": [
     0,
     2,
     4,
     12,
     14
    ]
   },
   "outputs": [],
   "source": [
    "#============================================  基本函数（1） =======================================================\n",
    "\n",
    "def lv(f):                           #lv(f)\n",
    "    return f.variables()[-1]\n",
    "def cls(f):                          #cls(f)\n",
    "    a = f.parent().gens()\n",
    "    if f.total_degree()==0:\n",
    "        return 0\n",
    "    var = lv(f)\n",
    "    for i in range(len(a)):\n",
    "        if(var==a[i]):\n",
    "            return i+1\n",
    "def ldeg(f):                         #ldeg(f)\n",
    "    return f.degree(lv(f))\n",
    "def ini(f):                          #ini(f)\n",
    "    return f.coefficient({lv(f):ldeg(f)})"
   ]
  },
  {
   "cell_type": "code",
   "execution_count": 2,
   "metadata": {
    "code_folding": [
     0,
     2,
     22
    ]
   },
   "outputs": [],
   "source": [
    "#=============================================  基本函数（2）=======================================================\n",
    "\n",
    "def is_reduced(f,g):                       #判断多项式 f 是否相对于多项式 g 是约化的\n",
    "    return f.degree(lv(g)) < ldeg(g)\n",
    "def is_rank_smaller(f,g):                  #判断多项式f的rank是否比多项式g小\n",
    "    if(cls(f) == 0 and cls(g) > 0):\n",
    "        return true\n",
    "    elif(cls(f) > 0 and cls(g) > 0): \n",
    "        if(cls(f) < cls(g)):\n",
    "            return true\n",
    "        elif(cls(f) == cls(g) and ldeg(f) < ldeg(g)):\n",
    "            return true\n",
    "        else:\n",
    "            return false\n",
    "    else:\n",
    "        return false \n",
    "def least_rank_poly(P):                    #输出一个多项式集合 P 中rank最小的一个多项式  \n",
    "    f=list(P)[0]\n",
    "    for item in P:\n",
    "        if(is_rank_smaller(item,f)):\n",
    "            f=item\n",
    "    return f\n",
    "def reduce_element(P,f):                   #输出一个多项式集合P中【相对于多项式f约化的所有多项式】组成的集合\n",
    "    re=set()\n",
    "    for item in P:\n",
    "        if(is_reduced(item,f)):\n",
    "            re.add(item)\n",
    "    return re"
   ]
  },
  {
   "cell_type": "code",
   "execution_count": 3,
   "metadata": {
    "code_folding": [
     0
    ]
   },
   "outputs": [],
   "source": [
    "#=============================================  基本函数（3）=======================================================\n",
    "\n",
    "def prem(f,g,var):                   #一个多项式对一个多项式伪除\n",
    "    if f.degree(var) < g.degree(var):\n",
    "        return 0,f\n",
    "    rng=f.parent()\n",
    "    f1=f.polynomial(var)\n",
    "    g1=g.polynomial(var)\n",
    "    quo,rem=f1.pseudo_quo_rem(g1)\n",
    "    quo=R(quo)\n",
    "    rem=R(rem)\n",
    "    return quo,rem\n",
    "def prem_tri(f,T_):                   #一个多项式对一个三角列作伪除\n",
    "    r = f \n",
    "    T = T_[:]\n",
    "    while T != []:\n",
    "        g = T.pop()\n",
    "        _,r = prem(r,g,lv(g))\n",
    "    return r\n",
    "def prem_set_tri(P,T):               #一个多项式集合对一个三角列作伪除\n",
    "    re = set()\n",
    "    for item in P:\n",
    "        re.add(prem_tri(item,T))\n",
    "    return re\n"
   ]
  },
  {
   "cell_type": "code",
   "execution_count": 64,
   "metadata": {
    "code_folding": [
     12
    ]
   },
   "outputs": [],
   "source": [
    "#=============================================  基本函数（4）=======================================================\n",
    "def BaseSet(P):\n",
    "    f = least_rank_poly(P)\n",
    "    B = [f]\n",
    "    F = reduce_element(P,f)\n",
    "    if cls(f) == 0:\n",
    "        return B\n",
    "    while F != set():\n",
    "        f = least_rank_poly(F)\n",
    "        B.append(f)\n",
    "        F = reduce_element(F,f)\n",
    "    return B\n",
    "def CharSetWithInfo(P):\n",
    "    F = P\n",
    "    B = BaseSet(F)\n",
    "    R = prem_set_tri(F,B).difference({0})\n",
    "    print(\"F:\",F)\n",
    "    print(\"B:\",B)\n",
    "    print(\"R:\",R)\n",
    "    while R != set():\n",
    "        print(\"====== CharSet() one loop start  ==============\")\n",
    "        F = P.union(B,R)     #之前将 P 写成 F 了\n",
    "        B = BaseSet(F)\n",
    "        R = prem_set_tri(F,B).difference({0})\n",
    "        \n",
    "        print(\"F:\",F)\n",
    "        print(\"B:\",B)\n",
    "        print(\"R:\",R)\n",
    "        print(\"====== CharSet() one loop end ==================\")\n",
    "    return B\n",
    "def CharSet(P):\n",
    "    F = P\n",
    "    B = BaseSet(F)\n",
    "    R = prem_set_tri(F,B).difference({0})\n",
    "    while R != set():\n",
    "        F = P.union(B,R)     #之前将 P 写成 F 了\n",
    "        B = BaseSet(F)\n",
    "        R = prem_set_tri(F,B).difference({0})\n",
    "    return B\n",
    "def if_is_char_set(C,P):\n",
    "    flag1=false\n",
    "    flag2=false\n",
    "    I=ideal(list(P))\n",
    "    s=0\n",
    "    for item in C:\n",
    "        if item in I:\n",
    "            s+=1\n",
    "    if s==len(C):\n",
    "        flag1=true\n",
    "    if prem_set_tri(P,C)=={0}:\n",
    "        flag2=true\n",
    "    return flag1 and flag2\n",
    "def print_list_poly(C,list_name):\n",
    "    print(list_name+\": (len = \"+str(len(C))+\")---------------------------------------------------------------- \")\n",
    "    for i in range(len(C)):\n",
    "        if i==0:\n",
    "            print(\"   [\"+str(C[i].factor())+\",\")\n",
    "        elif i==len(C)-1:\n",
    "            print(\"    \"+str(C[i].factor())+\"]  END\")\n",
    "        else:\n",
    "            print(\"    \"+str(C[i].factor())+\",\")\n",
    "    print()"
   ]
  },
  {
   "cell_type": "code",
   "execution_count": 65,
   "metadata": {
    "code_folding": []
   },
   "outputs": [
    {
     "name": "stdout",
     "output_type": "stream",
     "text": [
      "char set: (len = 6)---------------------------------------------------------------- \n",
      "   [(-1) * (x_1 + x_5 - 2*x_6),\n",
      "    (-1) * (x_4 - 2*x_7),\n",
      "    (-1) * (x_2 + x_3 - 2*x_8),\n",
      "    (-1) * (x_4 - 2*x_9),\n",
      "    (-1) * 2^2 * x_4 * (-x_1 - x_3 + 2*x_10) * (x_1 - x_2 - x_3 + x_5),\n",
      "    (-1) * 2^2 * (-x_4 + 2*x_11) * x_4 * (-x_1 + x_3) * (x_1 - x_2 - x_3 + x_5)]  END\n",
      "\n",
      "P: (len = 6)---------------------------------------------------------------- \n",
      "   [(-1) * (-x_1*x_4 + x_4*x_10 + x_1*x_11 - x_3*x_11),\n",
      "    (-1) * (x_2 + x_3 - 2*x_8),\n",
      "    (-1) * (x_7*x_8 - x_6*x_9 - x_7*x_10 + x_9*x_10 + x_6*x_11 - x_8*x_11),\n",
      "    (-1) * (x_4 - 2*x_7),\n",
      "    (-1) * (x_4 - 2*x_9),\n",
      "    (-1) * (x_1 + x_5 - 2*x_6)]  END\n",
      "\n",
      "check: True\n"
     ]
    }
   ],
   "source": [
    "##===============================================  例5.5.3  ==================================================\n",
    "R.<x_1, x_2, x_3, x_4, x_5, x_6, x_7, x_8, x_9, x_10, x_11>=ZZ[]\n",
    "h1=2*x_6-x_5-x_1\n",
    "h2=2*x_7-x_4\n",
    "h3=2*x_8-x_2-x_3\n",
    "h4=2*x_9-x_4\n",
    "h5=(x_8-x_6)*x_11-(x_9-x_7)*x_10+x_6*x_9-x_7*x_8\n",
    "h6=(x_3-x_1)*x_11-(x_10-x_1)*x_4\n",
    "P={h1,h2,h3,h4,h5,h6}\n",
    "C=CharSet(P)\n",
    "print_list_poly(C,\"char set\")\n",
    "print_list_poly(list(P),\"P\")\n",
    "print(\"check: \"+str(if_is_char_set(C,P)))\n"
   ]
  },
  {
   "cell_type": "code",
   "execution_count": 66,
   "metadata": {
    "code_folding": []
   },
   "outputs": [
    {
     "name": "stdout",
     "output_type": "stream",
     "text": [
      "char set: (len = 3)---------------------------------------------------------------- \n",
      "   [x1 * (2*x1*x2^2 - 2*x1*x2 + 2*x2^2 + x1 + 1),\n",
      "    x1^3*x2 - x1^2*x2*x3 + 3*x1^2*x2 - x1*x2*x3 + x1*x3^2 + x3^2,\n",
      "    -x1*x2 + x1*x4 + x3]  END\n",
      "\n",
      "P: (len = 3)---------------------------------------------------------------- \n",
      "   [-x1*x2 + x1*x4 + x3,\n",
      "    -x1*x2*x4 + x1*x4^2 + x1*x2 - x2*x4 + x4^2 + 3*x2,\n",
      "    -x1*x2 - 2*x2^2 + x3*x4 - 1]  END\n",
      "\n",
      "check: True\n"
     ]
    }
   ],
   "source": [
    "##===============================================  ex5.3  ==================================================\n",
    "R.<x1,x2,x3,x4>=ZZ[]\n",
    "f1=x1*x4+x3-x1*x2\n",
    "f2=x3*x4-2*x2^2-x1*x2-1\n",
    "f3=x1*x4^2+x4^2-x1*x2*x4-x2*x4+x1*x2+3*x2\n",
    "P={f1,f2,f3}\n",
    "C=CharSet(P)\n",
    "print_list_poly(C,\"char set\")\n",
    "print_list_poly(list(P),\"P\")\n",
    "print(\"check: \"+str(if_is_char_set(C,P)))"
   ]
  },
  {
   "cell_type": "code",
   "execution_count": null,
   "metadata": {},
   "outputs": [],
   "source": [
    "##===============================================  ex5.3  ==================================================\n",
    "R.<x1,x2,x3,x4>=ZZ[]\n",
    "f1=x1*x4+x3-x1*x2\n",
    "f2=x3*x4-2*x2^2-x1*x2-1\n",
    "f3=x1*x4^2+x4^2-x1*x2*x4-x2*x4+x1*x2+3*x2\n",
    "P={f1,f2,f3}\n",
    "C=CharSet(P)\n",
    "print_list_poly(C,\"char set\")\n",
    "print_list_poly(list(P),\"P\")\n",
    "print(\"check: \"+str(if_is_char_set(C,P)))"
   ]
  },
  {
   "cell_type": "code",
   "execution_count": 67,
   "metadata": {
    "code_folding": []
   },
   "outputs": [
    {
     "name": "stdout",
     "output_type": "stream",
     "text": [
      "char set: (len = 3)---------------------------------------------------------------- \n",
      "   [c^10 * (a^4 - 2*a^2*b^2 + b^4 - 2*a^2*c^2 - 2*b^2*c^2 + c^4 + 16*S^2),\n",
      "    (-1) * c^4 * (a^2 - b^2 - c^2 + 2*c*x),\n",
      "    c*y - 2*S]  END\n",
      "\n",
      "P: (len = 3)---------------------------------------------------------------- \n",
      "   [-a^2 + c^2 - 2*c*x + x^2 + y^2,\n",
      "    c*y - 2*S,\n",
      "    -b^2 + x^2 + y^2]  END\n",
      "\n",
      "check: True\n"
     ]
    }
   ],
   "source": [
    "##===============================================  例5.5.2  ==================================================\n",
    "R.<a,b,c,S,x,y>=ZZ[]\n",
    "f1=c*y-2*S\n",
    "f2=y^2+x^2-b^2\n",
    "f3=y^2+(x-c)^2-a^2\n",
    "P={f1,f2,f3}\n",
    "C=CharSet(P)\n",
    "print_list_poly(C,\"char set\")\n",
    "print_list_poly(list(P),\"P\")\n",
    "print(\"check: \"+str(if_is_char_set(C,P)))"
   ]
  },
  {
   "cell_type": "code",
   "execution_count": 68,
   "metadata": {
    "code_folding": [
     0,
     3
    ]
   },
   "outputs": [
    {
     "data": {
      "text/plain": [
       "\"\\nRealNumber('1.') prem(f,g,var)函数中 当f.degree(var)<g.degree(var)时，调用s.pseduo_quo_rem(g)的输出结果是不对的\\nRealNumber('2.') prem_tri(f,T)函数中数组拷贝方式错误，\\n   a=[Integer(11),Integer(2)]\\n   拷贝要用 b=a[:]，而不是b=a\\nRealNumber('3.') CharSet()函数中将F = P.union(B,R) 中的P错写成了F\\n\""
      ]
     },
     "execution_count": 68,
     "metadata": {},
     "output_type": "execute_result"
    }
   ],
   "source": [
    "#=============================================  错误总结 ======================================================\n",
    "\"\"\"\n",
    "1. prem(f,g,var)函数中 当f.degree(var)<g.degree(var)时，调用s.pseduo_quo_rem(g)的输出结果是不对的\n",
    "2. prem_tri(f,T)函数中数组拷贝方式错误，\n",
    "   a=[11,2]\n",
    "   拷贝要用 b=a[:]，而不是b=a\n",
    "3. CharSet()函数中将F = P.union(B,R) 中的P错写成了F\n",
    "\"\"\""
   ]
  },
  {
   "cell_type": "code",
   "execution_count": null,
   "metadata": {},
   "outputs": [],
   "source": []
  },
  {
   "cell_type": "code",
   "execution_count": null,
   "metadata": {},
   "outputs": [],
   "source": []
  }
 ],
 "metadata": {
  "kernelspec": {
   "display_name": "SageMath 9.0",
   "language": "sage",
   "name": "sagemath"
  },
  "language_info": {
   "codemirror_mode": {
    "name": "ipython",
    "version": 3
   },
   "file_extension": ".py",
   "mimetype": "text/x-python",
   "name": "python",
   "nbconvert_exporter": "python",
   "pygments_lexer": "ipython3",
   "version": "3.8.5"
  },
  "toc": {
   "base_numbering": 1,
   "nav_menu": {},
   "number_sections": true,
   "sideBar": true,
   "skip_h1_title": false,
   "title_cell": "Table of Contents",
   "title_sidebar": "Contents",
   "toc_cell": false,
   "toc_position": {},
   "toc_section_display": true,
   "toc_window_display": false
  },
  "varInspector": {
   "cols": {
    "lenName": 16,
    "lenType": 16,
    "lenVar": 40
   },
   "kernels_config": {
    "python": {
     "delete_cmd_postfix": "",
     "delete_cmd_prefix": "del ",
     "library": "var_list.py",
     "varRefreshCmd": "print(var_dic_list())"
    },
    "r": {
     "delete_cmd_postfix": ") ",
     "delete_cmd_prefix": "rm(",
     "library": "var_list.r",
     "varRefreshCmd": "cat(var_dic_list()) "
    }
   },
   "types_to_exclude": [
    "module",
    "function",
    "builtin_function_or_method",
    "instance",
    "_Feature"
   ],
   "window_display": false
  },
  "widgets": {
   "application/vnd.jupyter.widget-state+json": {
    "state": {},
    "version_major": 1,
    "version_minor": 0
   }
  }
 },
 "nbformat": 4,
 "nbformat_minor": 4
}
