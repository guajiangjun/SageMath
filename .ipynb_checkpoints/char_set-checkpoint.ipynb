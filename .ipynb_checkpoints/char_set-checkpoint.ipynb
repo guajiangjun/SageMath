{
 "cells": [
  {
   "cell_type": "code",
   "execution_count": 1,
   "metadata": {
    "code_folding": [
     0
    ]
   },
   "outputs": [],
   "source": [
    "#============================================  基本函数（0） =======================================================\n",
    "import inspect, re\n",
    "\n",
    "def varname(p):\n",
    "    for line in inspect.getframeinfo(inspect.currentframe().f_back)[3]:\n",
    "        m = re.search(r'\\bvarname\\s*\\(\\s*([A-Za-z_][A-Za-z0-9_]*)\\s*\\)', line)\n",
    "    if m:\n",
    "        return m.group(1)\n",
    "def print_list(name,a):\n",
    "    if len(a)==0:\n",
    "        print(name+\": empty set\")\n",
    "    else:\n",
    "        print(name+\": \"+str(a[0]))\n",
    "        for i in range(1,len(a)):\n",
    "            print(\"   \"+str(a[i]))\n",
    "def print_set(name,a):\n",
    "    print_list(name,list(a))"
   ]
  },
  {
   "cell_type": "code",
   "execution_count": 2,
   "metadata": {
    "code_folding": [
     0,
     2,
     4,
     12,
     14,
     16
    ]
   },
   "outputs": [],
   "source": [
    "#============================================  基本函数（1） =======================================================\n",
    "\n",
    "def lv(f):                           #lv(f)\n",
    "    return f.variables()[-1]\n",
    "def cls(f):                          #cls(f)\n",
    "    a = f.parent().gens()\n",
    "    if f.total_degree()==0:\n",
    "        return 0\n",
    "    var = lv(f)\n",
    "    for i in range(len(a)):\n",
    "        if(var==a[i]):\n",
    "            return i+1\n",
    "def ldeg(f):                         #ldeg(f)\n",
    "    return f.degree(lv(f))\n",
    "def ini(f):                          #ini(f)\n",
    "    return f.coefficient({lv(f):ldeg(f)})\n",
    "def is_constance(f):                 #判断f是否是常值函数\n",
    "    return f.total_degree()==0 \n"
   ]
  },
  {
   "cell_type": "code",
   "execution_count": 3,
   "metadata": {
    "code_folding": [
     9
    ]
   },
   "outputs": [],
   "source": [
    "#=============================================  基本函数（2）=======================================================\n",
    "\n",
    "def is_reduced(f,g):                 #判断多项式 f 是否相对于多项式 g 是约化的\n",
    "    return f.degree(lv(g))<ldeg(g)\n",
    "def is_reduced_tri(f,T):             #判断多项式 f 是否相对于三角列 T 是约化的\n",
    "    for item in T:\n",
    "        if(not is_reduced(f,item)):\n",
    "            return false\n",
    "    return true\n",
    "def is_rank_smaller(f,g):            #判断多项式f的rank是否比多项式g小\n",
    "    if( is_constance(f) == true and is_constance(g) == false ):\n",
    "        return true\n",
    "    elif( is_constance(f) == false and is_constance(g) == false):      \n",
    "        if(cls(f)<cls(g)):\n",
    "            return true\n",
    "        elif(cls(f)==cls(g) and ldeg(f)<ldeg(g)):\n",
    "            return true\n",
    "        else:\n",
    "            return false\n",
    "    else:\n",
    "        return false "
   ]
  },
  {
   "cell_type": "code",
   "execution_count": 4,
   "metadata": {
    "code_folding": []
   },
   "outputs": [],
   "source": [
    "#=============================================  基本函数（3）=======================================================\n",
    "\n",
    "def prem(f,g,var):                   #多元多项式伪除\n",
    "    rng=f.parent()\n",
    "    f1=f.polynomial(var)\n",
    "    g1=g.polynomial(var)\n",
    "    quo,rem=f1.pseudo_quo_rem(g1)\n",
    "    quo=rng(quo)\n",
    "    rem=rng(rem)\n",
    "    #k=(quo*g+rem)/f\n",
    "    return quo,rem\n",
    "def prem_tri(f,T_):                   #一个多项式对一个三角列作伪除\n",
    "    T=T_\n",
    "    r=f\n",
    "    while len(T)!=0:\n",
    "        g=T.pop()\n",
    "        _,r=prem(r,g,lv(g))\n",
    "    return r\n"
   ]
  },
  {
   "cell_type": "code",
   "execution_count": 5,
   "metadata": {
    "code_folding": []
   },
   "outputs": [],
   "source": [
    "#=============================================  基本函数（4）======================================================\n",
    "def least_rank_poly(P):                    #输出一个多项式集合 P 中rank最小的一个多项式  \n",
    "    n=len(P)\n",
    "    f=list(P)[0]\n",
    "    for item in P:\n",
    "        if(is_rank_smaller(item,f)):\n",
    "            f=item\n",
    "    return f\n",
    "def reduce_element(P,f):                   #输出一个多项式集合P中【相对于多项式f约化的所有多项式】组成的集合\n",
    "    re=set()\n",
    "    for item in P:\n",
    "        if(is_reduced(item,f)):\n",
    "            re.add(item)\n",
    "    return re"
   ]
  },
  {
   "cell_type": "code",
   "execution_count": 12,
   "metadata": {
    "code_folding": []
   },
   "outputs": [],
   "source": [
    "\"\"\"\n",
    "input:多项式集合 P\n",
    "output:特征列 G\n",
    "\"\"\"\n",
    "def char_set(P):\n",
    "    G=[]\n",
    "    F=P\n",
    "    R=set()\n",
    "    print(\"===============\")\n",
    "    print_set('F',F)\n",
    "    print(\"----------\")\n",
    "    print_set('R',R)\n",
    "    print(\"----------\")\n",
    "    print_list('G',G)\n",
    "    print(\"+++++++++++++++\")\n",
    "    while true:\n",
    "        F=F.union(R)\n",
    "        Q=F\n",
    "        R=set()\n",
    "        G=[]\n",
    "        print(\"===============\")\n",
    "        print_set('F',F)\n",
    "        print(\"----------\")\n",
    "        print_set('Q',Q)\n",
    "        print(\"----------\")\n",
    "        print_set('R',R)\n",
    "        print(\"----------\")\n",
    "        print_list('G',G)\n",
    "        print(\"+++++++++++++++\")\n",
    "        while len(Q)!=0:\n",
    "            g=least_rank_poly(Q)\n",
    "            G.append(g)\n",
    "            Q_=set()\n",
    "            for item in Q:\n",
    "                if is_reduced_tri(item,G):\n",
    "                    Q_.add(item)\n",
    "            Q=Q_\n",
    "            print(\"g: \",g,\"\\n\")\n",
    "            print(\"G: \",G,\"\\n\")\n",
    "            print(\"Q: \",Q,\"\\n\")\n",
    "        for f in F.difference(G):\n",
    "            r=prem_tri(f,G)\n",
    "            if r!=0:\n",
    "                R.add(r)\n",
    "            print(\"r: \",r,\"\\n\")\n",
    "            print(\"R: \",R,\"\\n\")\n",
    "        if len(R)==0:\n",
    "            break\n",
    "    return G\n",
    "\n",
    "        \n",
    "        \n",
    "    \n",
    "    \n",
    "    "
   ]
  },
  {
   "cell_type": "code",
   "execution_count": 18,
   "metadata": {
    "code_folding": []
   },
   "outputs": [
    {
     "data": {
      "text/plain": [
       "x1^3*x2 - x1^2*x2*x3 + 3*x1^2*x2 - x1*x2*x3 + x1*x3^2 + x3^2"
      ]
     },
     "execution_count": 18,
     "metadata": {},
     "output_type": "execute_result"
    }
   ],
   "source": [
    "R.<x1,x2,x3,x4>=ZZ[]\n",
    "f1=x1*x4+x3-x1*x2\n",
    "f2=x3*x4-2*x2^2-x1*x2-1\n",
    "f3=x1*x4^2+x4^2-x1*x2*x4-x2*x4+x1*x2+3*x2\n",
    "P={f1,f2,f3}\n",
    "_,r1=prem(f2,f1,lv(f1))\n",
    "_,r2=prem(f3,f1,lv(f1))\n",
    "G=[r1,f1]\n",
    "s1=prem_tri(f3,G);\n",
    "s2=prem_tri(r2,G);s2"
   ]
  },
  {
   "cell_type": "code",
   "execution_count": null,
   "metadata": {},
   "outputs": [],
   "source": []
  },
  {
   "cell_type": "code",
   "execution_count": null,
   "metadata": {},
   "outputs": [],
   "source": []
  },
  {
   "cell_type": "code",
   "execution_count": 8,
   "metadata": {},
   "outputs": [],
   "source": [
    "##===============================================  数据  ==================================================\n",
    "R.<x_1, x_2, x_3, x_4, x_5, x_6, x_7, x_8, x_9, x_10, x_11>=ZZ[]\n",
    "h1=2*x_6-x_5-x_1\n",
    "h2=2*x_7-x_4\n",
    "h3=2*x_8-x_2-x_3\n",
    "h4=2*x_9-x_4\n",
    "h5=(x_8-x_6)*x_11-(x_9-x_7)*x_10+x_6*x_9-x_7*x_8\n",
    "h6=(x_3-x_1)*x_11-(x_10-x_1)*x_4"
   ]
  }
 ],
 "metadata": {
  "kernelspec": {
   "display_name": "SageMath 9.0",
   "language": "sage",
   "name": "sagemath"
  },
  "language_info": {
   "codemirror_mode": {
    "name": "ipython",
    "version": 3
   },
   "file_extension": ".py",
   "mimetype": "text/x-python",
   "name": "python",
   "nbconvert_exporter": "python",
   "pygments_lexer": "ipython3",
   "version": "3.8.5"
  },
  "widgets": {
   "application/vnd.jupyter.widget-state+json": {
    "state": {},
    "version_major": 1,
    "version_minor": 0
   }
  }
 },
 "nbformat": 4,
 "nbformat_minor": 4
}
